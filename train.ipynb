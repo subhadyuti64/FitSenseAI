{
 "cells": [
  {
   "cell_type": "code",
   "execution_count": 1,
   "id": "a0b195e1",
   "metadata": {},
   "outputs": [],
   "source": [
    "import torch\n",
    "import torchvision\n",
    "import torchvision.transforms as transforms\n",
    "from torch.utils.data import DataLoader\n",
    "from torchvision.datasets import ImageFolder\n",
    "from torchvision.models import resnet18\n",
    "import torch.nn as nn\n",
    "import torch.optim as optim\n",
    "import os\n"
   ]
  },
  {
   "cell_type": "code",
   "execution_count": 2,
   "id": "39b376d6",
   "metadata": {},
   "outputs": [],
   "source": [
    "data_dir = '/Users/subhadyutirath/Documents/FitSense/imgs'\n",
    "\n",
    "transform = transforms.Compose([\n",
    "    transforms.Resize((224, 224)),\n",
    "    transforms.ToTensor(),\n",
    "    transforms.Normalize(mean=[0.485, 0.456, 0.406], std=[0.229, 0.224, 0.225])\n",
    "])\n",
    "\n",
    "batch_size = 32\n"
   ]
  },
  {
   "cell_type": "code",
   "execution_count": null,
   "id": "f07fcb99",
   "metadata": {},
   "outputs": [],
   "source": [
    "dataset = ImageFolder(root=data_dir, transform=transform)\n",
    "class_names = dataset.classes\n",
    "\n",
    "train_size = int(0.8 * len(dataset))\n",
    "val_size = len(dataset) - train_size\n",
    "train_dataset, val_dataset = torch.utils.data.random_split(dataset, [train_size, val_size])\n",
    "\n",
    "train_loader = DataLoader(train_dataset, batch_size=batch_size, shuffle=True)\n",
    "val_loader = DataLoader(val_dataset, batch_size=batch_size, shuffle=False)\n"
   ]
  },
  {
   "cell_type": "code",
   "execution_count": 4,
   "id": "717b44b2",
   "metadata": {},
   "outputs": [
    {
     "name": "stderr",
     "output_type": "stream",
     "text": [
      "/opt/anaconda3/lib/python3.12/site-packages/torchvision/models/_utils.py:208: UserWarning: The parameter 'pretrained' is deprecated since 0.13 and may be removed in the future, please use 'weights' instead.\n",
      "  warnings.warn(\n",
      "/opt/anaconda3/lib/python3.12/site-packages/torchvision/models/_utils.py:223: UserWarning: Arguments other than a weight enum or `None` for 'weights' are deprecated since 0.13 and may be removed in the future. The current behavior is equivalent to passing `weights=ResNet18_Weights.IMAGENET1K_V1`. You can also use `weights=ResNet18_Weights.DEFAULT` to get the most up-to-date weights.\n",
      "  warnings.warn(msg)\n"
     ]
    },
    {
     "name": "stdout",
     "output_type": "stream",
     "text": [
      "Downloading: \"https://download.pytorch.org/models/resnet18-f37072fd.pth\" to /Users/subhadyutirath/.cache/torch/hub/checkpoints/resnet18-f37072fd.pth\n"
     ]
    },
    {
     "name": "stderr",
     "output_type": "stream",
     "text": [
      "100%|██████████| 44.7M/44.7M [00:08<00:00, 5.23MB/s]\n"
     ]
    }
   ],
   "source": [
    "device = torch.device('cuda' if torch.cuda.is_available() else 'cpu')\n",
    "\n",
    "model = resnet18(pretrained=True)\n",
    "num_features = model.fc.in_features\n",
    "model.fc = nn.Linear(num_features, 3)  # 3 classes\n",
    "model = model.to(device)\n"
   ]
  },
  {
   "cell_type": "code",
   "execution_count": 5,
   "id": "050c7f2b",
   "metadata": {},
   "outputs": [],
   "source": [
    "criterion = nn.CrossEntropyLoss()\n",
    "optimizer = optim.Adam(model.parameters(), lr=1e-4)\n"
   ]
  },
  {
   "cell_type": "code",
   "execution_count": 16,
   "id": "665d5b4c",
   "metadata": {},
   "outputs": [
    {
     "name": "stdout",
     "output_type": "stream",
     "text": [
      "Epoch 1, Loss: 0.0014\n",
      "Epoch 2, Loss: 0.0020\n",
      "Epoch 3, Loss: 0.0012\n",
      "Epoch 4, Loss: 0.0019\n",
      "Epoch 5, Loss: 0.0015\n",
      "Epoch 6, Loss: 0.0009\n",
      "Epoch 7, Loss: 0.0011\n",
      "Epoch 8, Loss: 0.0022\n",
      "Epoch 9, Loss: 0.0011\n",
      "Epoch 10, Loss: 0.0008\n",
      "Epoch 11, Loss: 0.0013\n",
      "Epoch 12, Loss: 0.0007\n",
      "Epoch 13, Loss: 0.0033\n",
      "Epoch 14, Loss: 0.0010\n",
      "Epoch 15, Loss: 0.0009\n",
      "Epoch 16, Loss: 0.0021\n",
      "Epoch 17, Loss: 0.0011\n",
      "Epoch 18, Loss: 0.0007\n",
      "Epoch 19, Loss: 0.0007\n",
      "Epoch 20, Loss: 0.0007\n",
      "Epoch 21, Loss: 0.0008\n",
      "Epoch 22, Loss: 0.0010\n",
      "Epoch 23, Loss: 0.0006\n",
      "Epoch 24, Loss: 0.0006\n",
      "Epoch 25, Loss: 0.0006\n",
      "Epoch 26, Loss: 0.0006\n",
      "Epoch 27, Loss: 0.0008\n",
      "Epoch 28, Loss: 0.0008\n",
      "Epoch 29, Loss: 0.0018\n",
      "Epoch 30, Loss: 0.0006\n",
      "Epoch 31, Loss: 0.0010\n",
      "Epoch 32, Loss: 0.0015\n",
      "Epoch 33, Loss: 0.0007\n",
      "Epoch 34, Loss: 0.0006\n",
      "Epoch 35, Loss: 0.0006\n",
      "Epoch 36, Loss: 0.0012\n",
      "Epoch 37, Loss: 0.0006\n",
      "Epoch 38, Loss: 0.0006\n",
      "Epoch 39, Loss: 0.0006\n",
      "Epoch 40, Loss: 0.0006\n",
      "Epoch 41, Loss: 0.0005\n",
      "Epoch 42, Loss: 0.0011\n",
      "Epoch 43, Loss: 0.0008\n",
      "Epoch 44, Loss: 0.0007\n",
      "Epoch 45, Loss: 0.0005\n",
      "Epoch 46, Loss: 0.0005\n",
      "Epoch 47, Loss: 0.0005\n",
      "Epoch 48, Loss: 0.0006\n",
      "Epoch 49, Loss: 0.0004\n",
      "Epoch 50, Loss: 0.0009\n"
     ]
    }
   ],
   "source": [
    "num_epochs = 50\n",
    "\n",
    "for epoch in range(num_epochs):\n",
    "    model.train()\n",
    "    running_loss = 0.0\n",
    "\n",
    "    for inputs, labels in train_loader:\n",
    "        inputs, labels = inputs.to(device), labels.to(device)\n",
    "\n",
    "        optimizer.zero_grad()\n",
    "        outputs = model(inputs)\n",
    "        loss = criterion(outputs, labels)\n",
    "        loss.backward()\n",
    "        optimizer.step()\n",
    "\n",
    "        running_loss += loss.item()\n",
    "\n",
    "    print(f\"Epoch {epoch+1}, Loss: {running_loss / len(train_loader):.4f}\")\n"
   ]
  },
  {
   "cell_type": "code",
   "execution_count": 17,
   "id": "ea9c4510",
   "metadata": {},
   "outputs": [
    {
     "name": "stdout",
     "output_type": "stream",
     "text": [
      "Validation Accuracy: 80.00%\n"
     ]
    }
   ],
   "source": [
    "model.eval()\n",
    "correct, total = 0, 0\n",
    "\n",
    "with torch.no_grad():\n",
    "    for inputs, labels in val_loader:\n",
    "        inputs, labels = inputs.to(device), labels.to(device)\n",
    "        outputs = model(inputs)\n",
    "        _, preds = torch.max(outputs, 1)\n",
    "        correct += (preds == labels).sum().item()\n",
    "        total += labels.size(0)\n",
    "\n",
    "print(f\"Validation Accuracy: {100 * correct / total:.2f}%\")\n"
   ]
  },
  {
   "cell_type": "code",
   "execution_count": null,
   "id": "5e893616",
   "metadata": {},
   "outputs": [],
   "source": [
    "class_names = ['casuals', 'formal', 'sports'] "
   ]
  },
  {
   "cell_type": "code",
   "execution_count": 18,
   "id": "accb7edd",
   "metadata": {},
   "outputs": [
    {
     "name": "stdout",
     "output_type": "stream",
     "text": [
      "sports\n"
     ]
    }
   ],
   "source": [
    "from PIL import Image\n",
    "\n",
    "def predict(image_path):\n",
    "    model.eval()\n",
    "    img = Image.open(image_path).convert('RGB')\n",
    "    img = transform(img).unsqueeze(0).to(device)\n",
    "\n",
    "    with torch.no_grad():\n",
    "        output = model(img)\n",
    "        _, predicted = torch.max(output, 1)\n",
    "    return class_names[predicted.item()]\n",
    "\n",
    "# Example usage\n",
    "print(predict(\"/Users/subhadyutirath/Documents/FitSense/51EfYoRALoL.jpg\"))\n"
   ]
  },
  {
   "cell_type": "code",
   "execution_count": 23,
   "id": "84935e58",
   "metadata": {},
   "outputs": [],
   "source": [
    "torch.save(model.state_dict(), 'fitsense.pth')"
   ]
  },
  {
   "cell_type": "code",
   "execution_count": null,
   "id": "21a9abe7",
   "metadata": {},
   "outputs": [],
   "source": []
  }
 ],
 "metadata": {
  "kernelspec": {
   "display_name": "base",
   "language": "python",
   "name": "python3"
  },
  "language_info": {
   "codemirror_mode": {
    "name": "ipython",
    "version": 3
   },
   "file_extension": ".py",
   "mimetype": "text/x-python",
   "name": "python",
   "nbconvert_exporter": "python",
   "pygments_lexer": "ipython3",
   "version": "3.12.7"
  }
 },
 "nbformat": 4,
 "nbformat_minor": 5
}
